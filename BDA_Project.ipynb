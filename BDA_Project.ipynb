{
  "nbformat": 4,
  "nbformat_minor": 0,
  "metadata": {
    "colab": {
      "provenance": []
    },
    "kernelspec": {
      "name": "python3",
      "display_name": "Python 3"
    },
    "language_info": {
      "name": "python"
    }
  },
  "cells": [
    {
      "cell_type": "code",
      "source": [
        "#Prediction using PySpark in Spark Cluster"
      ],
      "metadata": {
        "id": "hsNVXTtbSCI5"
      },
      "execution_count": null,
      "outputs": []
    },
    {
      "cell_type": "code",
      "execution_count": null,
      "metadata": {
        "id": "lyS-rtwhU6zu",
        "colab": {
          "base_uri": "https://localhost:8080/"
        },
        "outputId": "2172f93a-27bb-4834-e2b0-a274dca93209"
      },
      "outputs": [
        {
          "output_type": "stream",
          "name": "stdout",
          "text": [
            "Collecting pyspark\n",
            "  Downloading pyspark-3.5.2.tar.gz (317.3 MB)\n",
            "\u001b[2K     \u001b[90m━━━━━━━━━━━━━━━━━━━━━━━━━━━━━━━━━━━━━━━━\u001b[0m \u001b[32m317.3/317.3 MB\u001b[0m \u001b[31m5.2 MB/s\u001b[0m eta \u001b[36m0:00:00\u001b[0m\n",
            "\u001b[?25h  Preparing metadata (setup.py) ... \u001b[?25l\u001b[?25hdone\n",
            "Requirement already satisfied: py4j==0.10.9.7 in /usr/local/lib/python3.10/dist-packages (from pyspark) (0.10.9.7)\n",
            "Building wheels for collected packages: pyspark\n",
            "  Building wheel for pyspark (setup.py) ... \u001b[?25l\u001b[?25hdone\n",
            "  Created wheel for pyspark: filename=pyspark-3.5.2-py2.py3-none-any.whl size=317812365 sha256=e7dc9588a5b07a4375c60b7e9d74390dfee97848a11e9f076bef56d098d701b2\n",
            "  Stored in directory: /root/.cache/pip/wheels/34/34/bd/03944534c44b677cd5859f248090daa9fb27b3c8f8e5f49574\n",
            "Successfully built pyspark\n",
            "Installing collected packages: pyspark\n",
            "Successfully installed pyspark-3.5.2\n",
            "Requirement already satisfied: pandas in /usr/local/lib/python3.10/dist-packages (2.1.4)\n",
            "Requirement already satisfied: numpy in /usr/local/lib/python3.10/dist-packages (1.26.4)\n",
            "Requirement already satisfied: scikit-learn in /usr/local/lib/python3.10/dist-packages (1.3.2)\n",
            "Requirement already satisfied: yfinance in /usr/local/lib/python3.10/dist-packages (0.2.43)\n",
            "Requirement already satisfied: python-dateutil>=2.8.2 in /usr/local/lib/python3.10/dist-packages (from pandas) (2.8.2)\n",
            "Requirement already satisfied: pytz>=2020.1 in /usr/local/lib/python3.10/dist-packages (from pandas) (2024.1)\n",
            "Requirement already satisfied: tzdata>=2022.1 in /usr/local/lib/python3.10/dist-packages (from pandas) (2024.1)\n",
            "Requirement already satisfied: scipy>=1.5.0 in /usr/local/lib/python3.10/dist-packages (from scikit-learn) (1.13.1)\n",
            "Requirement already satisfied: joblib>=1.1.1 in /usr/local/lib/python3.10/dist-packages (from scikit-learn) (1.4.2)\n",
            "Requirement already satisfied: threadpoolctl>=2.0.0 in /usr/local/lib/python3.10/dist-packages (from scikit-learn) (3.5.0)\n",
            "Requirement already satisfied: requests>=2.31 in /usr/local/lib/python3.10/dist-packages (from yfinance) (2.32.3)\n",
            "Requirement already satisfied: multitasking>=0.0.7 in /usr/local/lib/python3.10/dist-packages (from yfinance) (0.0.11)\n",
            "Requirement already satisfied: lxml>=4.9.1 in /usr/local/lib/python3.10/dist-packages (from yfinance) (4.9.4)\n",
            "Requirement already satisfied: platformdirs>=2.0.0 in /usr/local/lib/python3.10/dist-packages (from yfinance) (4.2.2)\n",
            "Requirement already satisfied: frozendict>=2.3.4 in /usr/local/lib/python3.10/dist-packages (from yfinance) (2.4.4)\n",
            "Requirement already satisfied: peewee>=3.16.2 in /usr/local/lib/python3.10/dist-packages (from yfinance) (3.17.6)\n",
            "Requirement already satisfied: beautifulsoup4>=4.11.1 in /usr/local/lib/python3.10/dist-packages (from yfinance) (4.12.3)\n",
            "Requirement already satisfied: html5lib>=1.1 in /usr/local/lib/python3.10/dist-packages (from yfinance) (1.1)\n",
            "Requirement already satisfied: soupsieve>1.2 in /usr/local/lib/python3.10/dist-packages (from beautifulsoup4>=4.11.1->yfinance) (2.6)\n",
            "Requirement already satisfied: six>=1.9 in /usr/local/lib/python3.10/dist-packages (from html5lib>=1.1->yfinance) (1.16.0)\n",
            "Requirement already satisfied: webencodings in /usr/local/lib/python3.10/dist-packages (from html5lib>=1.1->yfinance) (0.5.1)\n",
            "Requirement already satisfied: charset-normalizer<4,>=2 in /usr/local/lib/python3.10/dist-packages (from requests>=2.31->yfinance) (3.3.2)\n",
            "Requirement already satisfied: idna<4,>=2.5 in /usr/local/lib/python3.10/dist-packages (from requests>=2.31->yfinance) (3.8)\n",
            "Requirement already satisfied: urllib3<3,>=1.21.1 in /usr/local/lib/python3.10/dist-packages (from requests>=2.31->yfinance) (2.0.7)\n",
            "Requirement already satisfied: certifi>=2017.4.17 in /usr/local/lib/python3.10/dist-packages (from requests>=2.31->yfinance) (2024.7.4)\n"
          ]
        }
      ],
      "source": [
        "!pip install pyspark\n",
        "!pip install pandas numpy scikit-learn yfinance"
      ]
    },
    {
      "cell_type": "code",
      "source": [
        "import yfinance as yf\n",
        "from datetime import date\n",
        "import pandas as pd\n",
        "from sklearn.model_selection import train_test_split\n",
        "from sklearn.linear_model import LinearRegression\n",
        "from sklearn.metrics import mean_squared_error\n",
        "import numpy as np\n",
        "# Download data for a specific stock\n",
        "data = yf.download(\"GOOGL\", start=\"2010-01-01\", end=date.today())\n",
        "data.reset_index(inplace=True)\n"
      ],
      "metadata": {
        "colab": {
          "base_uri": "https://localhost:8080/"
        },
        "id": "YbvUkTAj28ge",
        "outputId": "09cb2388-8e26-487a-9a59-849b3e03ed0e"
      },
      "execution_count": null,
      "outputs": [
        {
          "output_type": "stream",
          "name": "stderr",
          "text": [
            "\r[*********************100%***********************]  1 of 1 completed\n"
          ]
        }
      ]
    },
    {
      "cell_type": "code",
      "source": [
        "from pyspark.sql import SparkSession\n",
        "from pyspark.sql.functions import col, lag, avg\n",
        "from pyspark.sql.window import Window\n",
        "\n",
        "spark = SparkSession.builder.appName(\"StockPricePrediction\").getOrCreate()\n",
        "df = spark.createDataFrame(data)\n",
        "\n",
        "# Example feature: 7-day moving average\n",
        "windowSpec = Window.orderBy(\"Date\").rowsBetween(-6, 0)\n",
        "df = df.withColumn(\"MA_7\", avg(col(\"Close\")).over(windowSpec))\n",
        "\n",
        "# Lag feature: Previous day's close price\n",
        "df = df.withColumn(\"Previous_Close\", lag(col(\"Close\"), 1).over(Window.orderBy(\"Date\")))\n"
      ],
      "metadata": {
        "id": "ANSFgHIm2_gr"
      },
      "execution_count": null,
      "outputs": []
    },
    {
      "cell_type": "code",
      "source": [
        "from pyspark.ml.feature import VectorAssembler\n",
        "from pyspark.ml.regression import LinearRegression\n",
        "from pyspark.ml.evaluation import RegressionEvaluator\n",
        "from pyspark.sql.functions import col\n",
        "\n",
        "# Corrected feature_cols list with existing columns only\n",
        "feature_cols = [\"MA_7\", \"Previous_Close\", \"Volume\"]  # Modify based on your DataFrame\n",
        "\n",
        "# Remove the existing 'features' column if it exists\n",
        "if \"features\" in df.columns:\n",
        "    df = df.drop(\"features\")\n",
        "\n",
        "# Calculate mean for each column and create a dictionary\n",
        "means = {col: df.select(col).na.drop().rdd.map(lambda r: r[0]).mean() for col in feature_cols}\n",
        "\n",
        "# Fill missing values with the calculated means\n",
        "df = df.na.fill(means)\n",
        "\n",
        "# Assemble the features\n",
        "assembler = VectorAssembler(inputCols=feature_cols, outputCol=\"features\")\n",
        "df = assembler.transform(df)\n",
        "\n",
        "# Split data into training and test sets\n",
        "train, test = df.randomSplit([0.8, 0.2], seed=12345)\n",
        "\n",
        "# Train the Linear Regression model\n",
        "lr = LinearRegression(featuresCol=\"features\", labelCol=\"Close\")\n",
        "lr_model = lr.fit(train)\n",
        "\n",
        "# Make predictions on the test set\n",
        "predictions = lr_model.transform(test)\n",
        "\n",
        "# Evaluate the model using RMSE\n",
        "evaluator = RegressionEvaluator(labelCol=\"Close\", predictionCol=\"prediction\", metricName=\"rmse\")\n",
        "rmse = evaluator.evaluate(predictions)\n",
        "print(f\"RMSE: {rmse}\")\n"
      ],
      "metadata": {
        "colab": {
          "base_uri": "https://localhost:8080/"
        },
        "id": "ij4564Ht3DLz",
        "outputId": "91018f1e-4c8c-405e-8eaf-b8049ca5dc88"
      },
      "execution_count": null,
      "outputs": [
        {
          "output_type": "stream",
          "name": "stdout",
          "text": [
            "RMSE: 1.3479133626914612\n"
          ]
        }
      ]
    },
    {
      "cell_type": "code",
      "source": [
        "from pyspark.ml.tuning import CrossValidator, ParamGridBuilder\n",
        "\n",
        "paramGrid = (ParamGridBuilder()\n",
        "             .addGrid(lr.regParam, [0.01, 0.1, 1.0])\n",
        "             .build())\n",
        "\n",
        "crossval = CrossValidator(estimator=lr,\n",
        "                          estimatorParamMaps=paramGrid,\n",
        "                          evaluator=evaluator,\n",
        "                          numFolds=5)\n",
        "\n",
        "cvModel = crossval.fit(train)\n",
        "bestModel = cvModel.bestModel\n"
      ],
      "metadata": {
        "id": "NEkBCxey3Fh9"
      },
      "execution_count": null,
      "outputs": []
    },
    {
      "cell_type": "code",
      "source": [
        "from pyspark.ml.evaluation import RegressionEvaluator\n",
        "\n",
        "# Make predictions on the test set\n",
        "predictions = lr_model.transform(test)\n",
        "\n",
        "# Evaluate the model using different metrics\n",
        "evaluator_rmse = RegressionEvaluator(labelCol=\"Close\", predictionCol=\"prediction\", metricName=\"rmse\")\n",
        "evaluator_r2 = RegressionEvaluator(labelCol=\"Close\", predictionCol=\"prediction\", metricName=\"r2\")\n",
        "evaluator_mae = RegressionEvaluator(labelCol=\"Close\", predictionCol=\"prediction\", metricName=\"mae\")\n",
        "\n",
        "rmse = evaluator_rmse.evaluate(predictions)\n",
        "r2 = evaluator_r2.evaluate(predictions)\n",
        "mae = evaluator_mae.evaluate(predictions)\n",
        "\n",
        "print(f\"RMSE: {rmse}\")\n",
        "print(f\"R-squared (R2): {r2}\")\n",
        "print(f\"MAE: {mae}\")\n"
      ],
      "metadata": {
        "colab": {
          "base_uri": "https://localhost:8080/"
        },
        "id": "GlpVt7gT4uVP",
        "outputId": "662d385e-4f5e-46cd-8a93-50849151eb06"
      },
      "execution_count": null,
      "outputs": [
        {
          "output_type": "stream",
          "name": "stdout",
          "text": [
            "RMSE: 1.3479133626914612\n",
            "R-squared (R2): 0.9990482920086728\n",
            "MAE: 0.7762741867667919\n"
          ]
        }
      ]
    },
    {
      "cell_type": "code",
      "source": [
        "from pyspark.sql.functions import abs, col\n",
        "\n",
        "# Add a column for the absolute percentage error\n",
        "predictions = predictions.withColumn(\"abs_percent_error\",\n",
        "                                     abs((col(\"Close\") - col(\"prediction\")) / col(\"Close\")) * 100)\n",
        "\n",
        "# Calculate the MAPE\n",
        "mape = predictions.select(\"abs_percent_error\").agg({\"abs_percent_error\": \"mean\"}).collect()[0][0]\n",
        "\n",
        "# Print the accuracy\n",
        "accuracy = 100 - mape\n",
        "print(f\"Prediction Accuracy: {accuracy:.2f}%\")\n"
      ],
      "metadata": {
        "colab": {
          "base_uri": "https://localhost:8080/"
        },
        "id": "MAeNRA3v5ALA",
        "outputId": "25a295f3-886b-4cb8-8ef5-e4741aac0dba"
      },
      "execution_count": null,
      "outputs": [
        {
          "output_type": "stream",
          "name": "stdout",
          "text": [
            "Prediction Accuracy: 98.79%\n"
          ]
        }
      ]
    },
    {
      "cell_type": "code",
      "source": [
        "# Assuming the latest data is included in the 'test' dataset\n",
        "\n",
        "# Filter the most recent data point from the test dataset\n",
        "latest_data = test.orderBy(col(\"Date\").desc()).limit(1)\n",
        "\n",
        "# Make a prediction using the trained model\n",
        "today_prediction = lr_model.transform(latest_data)\n",
        "\n",
        "# Extract and print the predicted price\n",
        "predicted_price = today_prediction.select(\"prediction\").collect()[0][0]\n",
        "print(f\"Predicted Price for Today: {predicted_price}\")\n"
      ],
      "metadata": {
        "colab": {
          "base_uri": "https://localhost:8080/"
        },
        "id": "HwH6eQEeR4CI",
        "outputId": "7f38f54d-76a1-4785-e211-543864ce3ac5"
      },
      "execution_count": null,
      "outputs": [
        {
          "output_type": "stream",
          "name": "stdout",
          "text": [
            "Predicted Price for Today: 165.7825892832855\n"
          ]
        }
      ]
    },
    {
      "cell_type": "code",
      "source": [
        "import pandas as pd\n",
        "from datetime import timedelta\n",
        "import matplotlib.pyplot as plt\n",
        "from pyspark.sql import functions as F\n",
        "\n",
        "# Assuming the training end date is the last date in your DataFrame\n",
        "last_date = df.select(F.max(\"Date\")).collect()[0][0]\n",
        "\n",
        "# Generate future dates for the next 7 days\n",
        "future_dates = pd.date_range(start=last_date, periods=8, freq='D')[1:]\n",
        "\n",
        "# Create a DataFrame for future predictions\n",
        "future_df = pd.DataFrame({\"Date\": future_dates})\n",
        "future_spark_df = spark.createDataFrame(future_df)\n",
        "\n",
        "# Prepare future features (example: keeping MA_7 and Previous_Close constant or applying a forecast model)\n",
        "latest_close = df.select(\"Close\").orderBy(F.col(\"Date\").desc()).first()[0]\n",
        "\n",
        "# Create future features assuming previous values remain constant\n",
        "future_spark_df = future_spark_df.withColumn(\"MA_7\", F.lit(latest_close)) \\\n",
        "                                 .withColumn(\"Previous_Close\", F.lit(latest_close)) \\\n",
        "                                 .withColumn(\"Volume\", F.lit(df.select(F.avg(\"Volume\")).first()[0])) # Assume avg volume\n",
        "\n",
        "# Transform future features using the trained VectorAssembler\n",
        "future_features = assembler.transform(future_spark_df)\n",
        "\n",
        "# Predict future prices using the trained model\n",
        "future_predictions = lr_model.transform(future_features)\n",
        "\n",
        "# Convert predictions to Pandas DataFrame for visualization\n",
        "predicted_prices = future_predictions.select(\"Date\", \"prediction\").toPandas()\n",
        "\n",
        "# Plotting actual vs. predicted prices\n",
        "plt.figure(figsize=(10, 5))\n",
        "\n",
        "# Plot historical data\n",
        "plt.plot(data['Date'], data['Close'], label='Historical Prices', marker='o', color='blue')\n",
        "\n",
        "# Plot predicted data\n",
        "plt.plot(predicted_prices['Date'], predicted_prices['prediction'], label='Predicted Prices', marker='o', linestyle='--', color='orange')\n",
        "\n",
        "plt.title('Stock Price Prediction for the Next 7 Days')\n",
        "plt.xlabel('Date')\n",
        "plt.ylabel('Price')\n",
        "plt.legend()\n",
        "plt.grid(True)\n",
        "plt.xticks(rotation=45)\n",
        "plt.tight_layout()\n",
        "\n",
        "plt.show()\n"
      ],
      "metadata": {
        "colab": {
          "base_uri": "https://localhost:8080/",
          "height": 507
        },
        "id": "VWKqGNrTUHjG",
        "outputId": "4c65feaf-3b07-4164-fe0b-3f31ee6b4a28"
      },
      "execution_count": null,
      "outputs": [
        {
          "output_type": "display_data",
          "data": {
            "text/plain": [
              "<Figure size 1000x500 with 1 Axes>"
            ],
            "image/png": "[encoded data removed]"
          },
          "metadata": {}
        }
      ]
    },
    {
      "cell_type": "code",
      "source": [
        "#Prediction Without PySpark"
      ],
      "metadata": {
        "id": "_ShLndhIR654"
      },
      "execution_count": null,
      "outputs": []
    },
    {
      "cell_type": "code",
      "source": [
        "import yfinance as yf\n",
        "import pandas as pd\n",
        "from sklearn.model_selection import train_test_split\n",
        "from sklearn.linear_model import LinearRegression\n",
        "from sklearn.metrics import mean_squared_error\n",
        "import numpy as np\n",
        "\n",
        "# Step 1: Download Historical Data\n",
        "ticker_symbol = 'GOOGL'\n",
        "data = yf.download(ticker_symbol, start=\"2010-01-01\", end=\"2024-08-15\")\n",
        "\n",
        "# Step 2: Feature Engineering\n",
        "data['Date'] = data.index\n",
        "data['Day'] = data['Date'].dt.day\n",
        "data['Month'] = data['Date'].dt.month\n",
        "data['Year'] = data['Date'].dt.year\n",
        "data['Previous_Close'] = data['Close'].shift(1)\n",
        "data.dropna(inplace=True)\n",
        "\n",
        "# Features and target variable\n",
        "feature_cols = ['Previous_Close', 'Day', 'Month', 'Year']\n",
        "X = data[feature_cols]\n",
        "y = data['Close']\n",
        "\n",
        "# Step 3: Train-Test Split\n",
        "X_train, X_test, y_train, y_test = train_test_split(X, y, test_size=0.2, random_state=42)\n",
        "\n",
        "# Step 4: Model Training\n",
        "model = LinearRegression()\n",
        "model.fit(X_train, y_train)\n",
        "\n",
        "# Step 5: Prediction\n",
        "y_pred = model.predict(X_test)\n",
        "\n",
        "# Evaluate the model\n",
        "mse = mean_squared_error(y_test, y_pred)\n",
        "rmse = np.sqrt(mse)\n",
        "print(f\"Root Mean Squared Error: {rmse}\")\n",
        "\n",
        "# Predicting today's price\n",
        "latest_data = data.tail(1)[feature_cols]\n",
        "predicted_price = model.predict(latest_data)\n",
        "print(f\"Predicted Price for Today: {predicted_price[0]}\")\n"
      ],
      "metadata": {
        "id": "2ZG-F-jA5LEj",
        "colab": {
          "base_uri": "https://localhost:8080/"
        },
        "outputId": "3579a330-3e44-4e90-9ecc-65112503db86"
      },
      "execution_count": null,
      "outputs": [
        {
          "output_type": "stream",
          "name": "stderr",
          "text": [
            "\r[*********************100%%**********************]  1 of 1 completed"
          ]
        },
        {
          "output_type": "stream",
          "name": "stdout",
          "text": [
            "Root Mean Squared Error: 1.4640997696251294\n",
            "Predicted Price for Today: 164.3207174944717\n"
          ]
        },
        {
          "output_type": "stream",
          "name": "stderr",
          "text": [
            "\n"
          ]
        }
      ]
    },
    {
      "cell_type": "code",
      "source": [],
      "metadata": {
        "id": "_aQGKF6VOYH1"
      },
      "execution_count": null,
      "outputs": []
    }
  ]
}